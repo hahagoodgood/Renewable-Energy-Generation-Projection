{
 "cells": [
  {
   "cell_type": "markdown",
   "metadata": {},
   "source": [
    "## 1. 라이브러리 및 파일 합치기"
   ]
  },
  {
   "cell_type": "code",
   "execution_count": null,
   "metadata": {},
   "outputs": [
    {
     "name": "stdout",
     "output_type": "stream",
     "text": [
      "현재 작업 디렉터리: c:\\Users\\Hyuk\\Documents\\대학\\4-1학기\\3.소프트웨어융합프로젝트\\산업통상자원부프로젝트\n",
      "asos디렉터리: data\\종관기상관측(ASOS)기상데이터\n",
      "['1001_1912OBS_ASOS_DD.csv', '2001_2412OBS_ASOS_DD.csv']\n"
     ]
    }
   ],
   "source": [
    "import os\n",
    "import pandas as pd\n",
    "import matplotlib.pyplot as plt\n",
    "import seaborn as sns\n",
    "# 현재 작업 디렉터리 출력\n",
    "current_directory = os.getcwd()\n",
    "print(\"현재 작업 디렉터리:\", current_directory)\n",
    "# 종관기상관측 폴더 경로 설정\n",
    "asos_folder_path = os.path.join('data', '종관기상관측(ASOS)기상데이터')\n",
    "print(\"asos디렉터리:\", asos_folder_path)\n",
    "# 폴더 내 파일 리스트 가져오기\n",
    "asos_files = os.listdir(asos_folder_path)\n",
    "print(asos_files)"
   ]
  },
  {
   "cell_type": "markdown",
   "metadata": {},
   "source": [
    "### 1-1 데이터 확인"
   ]
  },
  {
   "cell_type": "code",
   "execution_count": 40,
   "metadata": {},
   "outputs": [
    {
     "name": "stdout",
     "output_type": "stream",
     "text": [
      "파일 목록 ['1001_1912OBS_ASOS_DD.csv', '2001_2412OBS_ASOS_DD.csv']\n",
      "data\\종관기상관측(ASOS)기상데이터\\1001_1912OBS_ASOS_DD.csv\n",
      "데이터를 읽는 중...\n"
     ]
    },
    {
     "name": "stderr",
     "output_type": "stream",
     "text": [
      "C:\\Users\\Hyuk\\AppData\\Local\\Temp\\ipykernel_15228\\589645779.py:16: DtypeWarning: Columns (60) have mixed types. Specify dtype option on import or set low_memory=False.\n",
      "  df = pd.read_csv(file_path, encoding='cp949')\n"
     ]
    },
    {
     "name": "stdout",
     "output_type": "stream",
     "text": [
      "\n",
      "======= 1001_1912OBS_ASOS_DD.csv =======\n",
      "\n",
      "=== 데이터 기본 정보 ===\n",
      "\n",
      "컬럼 목록:\n",
      "['지점', '지점명', '일시', '평균기온(°C)', '최저기온(°C)', '최저기온 시각(hhmi)', '최고기온(°C)', '최고기온 시각(hhmi)', '강수 계속시간(hr)', '10분 최다 강수량(mm)', '10분 최다강수량 시각(hhmi)', '1시간 최다강수량(mm)', '1시간 최다 강수량 시각(hhmi)', '일강수량(mm)', '최대 순간 풍속(m/s)', '최대 순간 풍속 풍향(16방위)', '최대 순간풍속 시각(hhmi)', '최대 풍속(m/s)', '최대 풍속 풍향(16방위)', '최대 풍속 시각(hhmi)', '평균 풍속(m/s)', '풍정합(100m)', '최다풍향(16방위)', '평균 이슬점온도(°C)', '최소 상대습도(%)', '최소 상대습도 시각(hhmi)', '평균 상대습도(%)', '평균 증기압(hPa)', '평균 현지기압(hPa)', '최고 해면기압(hPa)', '최고 해면기압 시각(hhmi)', '최저 해면기압(hPa)', '최저 해면기압 시각(hhmi)', '평균 해면기압(hPa)', '가조시간(hr)', '합계 일조시간(hr)', '1시간 최다일사 시각(hhmi)', '1시간 최다일사량(MJ/m2)', '합계 일사량(MJ/m2)', '일 최심신적설(cm)', '일 최심신적설 시각(hhmi)', '일 최심적설(cm)', '일 최심적설 시각(hhmi)', '합계 3시간 신적설(cm)', '평균 전운량(1/10)', '평균 중하층운량(1/10)', '평균 지면온도(°C)', '최저 초상온도(°C)', '평균 5cm 지중온도(°C)', '평균 10cm 지중온도(°C)', '평균 20cm 지중온도(°C)', '평균 30cm 지중온도(°C)', '0.5m 지중온도(°C)', '1.0m 지중온도(°C)', '1.5m 지중온도(°C)', '3.0m 지중온도(°C)', '5.0m 지중온도(°C)', '합계 대형증발량(mm)', '합계 소형증발량(mm)', '9-9강수(mm)', '기사', '안개 계속시간(hr)']\n",
      "\n",
      "처음 5개 행:\n",
      "   지점 지점명          일시  평균기온(°C)  최저기온(°C)  최저기온 시각(hhmi)  최고기온(°C)  \\\n",
      "0  90  속초  2010-01-01      -3.1      -8.8           27.0       0.3   \n",
      "1  90  속초  2010-01-02      -0.4      -2.5          400.0       3.7   \n",
      "2  90  속초  2010-01-03      -2.8      -6.4          728.0       1.8   \n",
      "3  90  속초  2010-01-04      -2.3      -5.6          602.0       0.2   \n",
      "4  90  속초  2010-01-05      -4.6      -7.8         1951.0       0.0   \n",
      "\n",
      "   최고기온 시각(hhmi)  강수 계속시간(hr)  10분 최다 강수량(mm)  ...  0.5m 지중온도(°C)  \\\n",
      "0         1517.0          NaN             NaN  ...            NaN   \n",
      "1         1355.0          5.0             NaN  ...            NaN   \n",
      "2         1447.0          NaN             NaN  ...            NaN   \n",
      "3         2057.0         14.5             NaN  ...            NaN   \n",
      "4         1202.0          0.5             NaN  ...            NaN   \n",
      "\n",
      "   1.0m 지중온도(°C)  1.5m 지중온도(°C)  3.0m 지중온도(°C)  5.0m 지중온도(°C)  합계 대형증발량(mm)  \\\n",
      "0            NaN            NaN            NaN            NaN           NaN   \n",
      "1            NaN            NaN            NaN            NaN           NaN   \n",
      "2            NaN            NaN            NaN            NaN           NaN   \n",
      "3            NaN            NaN            NaN            NaN           NaN   \n",
      "4            NaN            NaN            NaN            NaN           NaN   \n",
      "\n",
      "   합계 소형증발량(mm)  9-9강수(mm)                                                 기사  \\\n",
      "0           NaN        NaN                                                NaN   \n",
      "1           NaN        NaN  {눈}0830-{눈}{강도1}0900-{눈}{강도0}1200-1330. {박무}08...   \n",
      "2           NaN        NaN                                                NaN   \n",
      "3           NaN        NaN  {박무}0940-{박무}{강도2}1200-{박무}{강도2}1500-{박무}{강도0}...   \n",
      "4           NaN        NaN                             -{눈}-0030. -{박무}-0120.   \n",
      "\n",
      "   안개 계속시간(hr)  \n",
      "0          NaN  \n",
      "1          NaN  \n",
      "2          NaN  \n",
      "3          NaN  \n",
      "4          NaN  \n",
      "\n",
      "[5 rows x 62 columns]\n",
      "\n",
      "데이터 타입:\n",
      "지점                int64\n",
      "지점명              object\n",
      "일시               object\n",
      "평균기온(°C)        float64\n",
      "최저기온(°C)        float64\n",
      "                 ...   \n",
      "합계 대형증발량(mm)    float64\n",
      "합계 소형증발량(mm)    float64\n",
      "9-9강수(mm)       float64\n",
      "기사               object\n",
      "안개 계속시간(hr)     float64\n",
      "Length: 62, dtype: object\n",
      "\n",
      "=== 결측치 현황 ===\n",
      "지점               0.000000\n",
      "지점명              0.000000\n",
      "일시               0.000000\n",
      "평균기온(°C)         0.107911\n",
      "최저기온(°C)         0.033520\n",
      "                  ...    \n",
      "합계 대형증발량(mm)    76.227525\n",
      "합계 소형증발량(mm)    70.647907\n",
      "9-9강수(mm)       91.551184\n",
      "기사              75.696203\n",
      "안개 계속시간(hr)     97.066702\n",
      "Length: 62, dtype: float64\n",
      "data\\종관기상관측(ASOS)기상데이터\\2001_2412OBS_ASOS_DD.csv\n",
      "데이터를 읽는 중...\n",
      "\n",
      "======= 2001_2412OBS_ASOS_DD.csv =======\n",
      "\n",
      "=== 데이터 기본 정보 ===\n",
      "\n",
      "컬럼 목록:\n",
      "['지점', '지점명', '일시', '평균기온(°C)', '최저기온(°C)', '최저기온 시각(hhmi)', '최고기온(°C)', '최고기온 시각(hhmi)', '강수 계속시간(hr)', '10분 최다 강수량(mm)', '10분 최다강수량 시각(hhmi)', '1시간 최다강수량(mm)', '1시간 최다 강수량 시각(hhmi)', '일강수량(mm)', '최대 순간 풍속(m/s)', '최대 순간 풍속 풍향(16방위)', '최대 순간풍속 시각(hhmi)', '최대 풍속(m/s)', '최대 풍속 풍향(16방위)', '최대 풍속 시각(hhmi)', '평균 풍속(m/s)', '풍정합(100m)', '최다풍향(16방위)', '평균 이슬점온도(°C)', '최소 상대습도(%)', '최소 상대습도 시각(hhmi)', '평균 상대습도(%)', '평균 증기압(hPa)', '평균 현지기압(hPa)', '최고 해면기압(hPa)', '최고 해면기압 시각(hhmi)', '최저 해면기압(hPa)', '최저 해면기압 시각(hhmi)', '평균 해면기압(hPa)', '가조시간(hr)', '합계 일조시간(hr)', '1시간 최다일사 시각(hhmi)', '1시간 최다일사량(MJ/m2)', '합계 일사량(MJ/m2)', '일 최심신적설(cm)', '일 최심신적설 시각(hhmi)', '일 최심적설(cm)', '일 최심적설 시각(hhmi)', '합계 3시간 신적설(cm)', '평균 전운량(1/10)', '평균 중하층운량(1/10)', '평균 지면온도(°C)', '최저 초상온도(°C)', '평균 5cm 지중온도(°C)', '평균 10cm 지중온도(°C)', '평균 20cm 지중온도(°C)', '평균 30cm 지중온도(°C)', '0.5m 지중온도(°C)', '1.0m 지중온도(°C)', '1.5m 지중온도(°C)', '3.0m 지중온도(°C)', '5.0m 지중온도(°C)', '합계 대형증발량(mm)', '합계 소형증발량(mm)', '9-9강수(mm)', '기사', '안개 계속시간(hr)']\n",
      "\n",
      "처음 5개 행:\n",
      "   지점 지점명          일시  평균기온(°C)  최저기온(°C)  최저기온 시각(hhmi)  최고기온(°C)  \\\n",
      "0  90  속초  2020-01-01       0.8      -3.4           24.0       4.8   \n",
      "1  90  속초  2020-01-02       2.8      -2.1           37.0       6.6   \n",
      "2  90  속초  2020-01-03       4.7       0.8          638.0       8.5   \n",
      "3  90  속초  2020-01-04       4.0       1.1         2400.0       8.1   \n",
      "4  90  속초  2020-01-05       3.1      -0.6          547.0       8.8   \n",
      "\n",
      "   최고기온 시각(hhmi)  강수 계속시간(hr)  10분 최다 강수량(mm)  ...  0.5m 지중온도(°C)  \\\n",
      "0         1330.0          NaN             NaN  ...            NaN   \n",
      "1         1428.0          NaN             NaN  ...            NaN   \n",
      "2         1256.0          NaN             NaN  ...            NaN   \n",
      "3         1353.0          NaN             NaN  ...            NaN   \n",
      "4         1350.0          NaN             NaN  ...            NaN   \n",
      "\n",
      "   1.0m 지중온도(°C)  1.5m 지중온도(°C)  3.0m 지중온도(°C)  5.0m 지중온도(°C)  합계 대형증발량(mm)  \\\n",
      "0            NaN            NaN            NaN            NaN           NaN   \n",
      "1            NaN            NaN            NaN            NaN           NaN   \n",
      "2            NaN            NaN            NaN            NaN           NaN   \n",
      "3            NaN            NaN            NaN            NaN           NaN   \n",
      "4            NaN            NaN            NaN            NaN           NaN   \n",
      "\n",
      "   합계 소형증발량(mm)  9-9강수(mm)   기사  안개 계속시간(hr)  \n",
      "0           NaN        NaN  NaN          NaN  \n",
      "1           NaN        NaN  NaN          NaN  \n",
      "2           NaN        NaN  NaN          NaN  \n",
      "3           NaN        NaN  NaN          NaN  \n",
      "4           NaN        NaN  NaN          NaN  \n",
      "\n",
      "[5 rows x 62 columns]\n",
      "\n",
      "데이터 타입:\n",
      "지점                int64\n",
      "지점명              object\n",
      "일시               object\n",
      "평균기온(°C)        float64\n",
      "최저기온(°C)        float64\n",
      "                 ...   \n",
      "합계 대형증발량(mm)    float64\n",
      "합계 소형증발량(mm)    float64\n",
      "9-9강수(mm)       float64\n",
      "기사               object\n",
      "안개 계속시간(hr)     float64\n",
      "Length: 62, dtype: object\n",
      "\n",
      "=== 결측치 현황 ===\n",
      "지점               0.000000\n",
      "지점명              0.000000\n",
      "일시               0.000000\n",
      "평균기온(°C)         0.134944\n",
      "최저기온(°C)         0.054893\n",
      "                  ...    \n",
      "합계 대형증발량(mm)    49.019081\n",
      "합계 소형증발량(mm)    49.019081\n",
      "9-9강수(mm)       91.136562\n",
      "기사              84.388205\n",
      "안개 계속시간(hr)     98.387530\n",
      "Length: 62, dtype: float64\n"
     ]
    },
    {
     "name": "stderr",
     "output_type": "stream",
     "text": [
      "C:\\Users\\Hyuk\\AppData\\Local\\Temp\\ipykernel_15228\\589645779.py:16: DtypeWarning: Columns (60) have mixed types. Specify dtype option on import or set low_memory=False.\n",
      "  df = pd.read_csv(file_path, encoding='cp949')\n"
     ]
    }
   ],
   "source": [
    "\n",
    "# 한글 폰트 설정\n",
    "plt.rcParams['font.family'] = 'Malgun Gothic'\n",
    "plt.rcParams['axes.unicode_minus'] = False\n",
    "\n",
    "def imfomation_asos_data(dirPath):\n",
    "    '''\n",
    "    폴더 경로를 입력받아 폴더 내 모든 파일을 읽어오고, 각 파일의 데이터 기본 정보를 출력하는 함수\n",
    "    '''\n",
    "    # 데이터 파일 경로\n",
    "    files = os.listdir(dirPath)\n",
    "    print(\"파일 목록\", files)\n",
    "    for file in files:\n",
    "        file_path = os.path.join(dirPath, file)\n",
    "        print(file_path)\n",
    "        # current_directory = os.getcwd()\n",
    "        # full_file_path = os.path.join(current_directory, file_path)\n",
    "        # 데이터 읽기   \n",
    "        print(\"데이터를 읽는 중...\")    \n",
    "        df = pd.read_csv(file_path, encoding='cp949')\n",
    "        # 데이터 기본 정보 출력\n",
    "        print(f\"\\n======= {file} =======\")\n",
    "        print(f\"\\n=== 데이터 기본 정보 ===\")\n",
    "        # print(\"데이터 크기:\", df.shape)\n",
    "        print(\"\\n컬럼 목록:\")\n",
    "        print(df.columns.tolist())\n",
    "        print(\"\\n처음 5개 행:\")\n",
    "        print(df.head())\n",
    "        print(\"\\n데이터 타입:\")\n",
    "        print(df.dtypes)\n",
    "    \n",
    "        # 결측치 확인\n",
    "        print(\"\\n=== 결측치 현황 ===\")\n",
    "        missing_values = df.isnull().sum()\n",
    "        missing_percentages = (missing_values / len(df)) * 100\n",
    "        print(missing_percentages)\n",
    "\n",
    "imfomation_asos_data(asos_folder_path)"
   ]
  },
  {
   "cell_type": "markdown",
   "metadata": {},
   "source": [
    "### 1-2. 파일 합치기"
   ]
  },
  {
   "cell_type": "code",
   "execution_count": 51,
   "metadata": {},
   "outputs": [
    {
     "name": "stderr",
     "output_type": "stream",
     "text": [
      "C:\\Users\\Hyuk\\AppData\\Local\\Temp\\ipykernel_15228\\2338684975.py:5: DtypeWarning: Columns (60) have mixed types. Specify dtype option on import or set low_memory=False.\n",
      "  df = pd.read_csv(os.path.join(asos_folder_path, file), encoding='cp949')\n"
     ]
    },
    {
     "name": "stdout",
     "output_type": "stream",
     "text": [
      "1001_1912OBS_ASOS_DD.csv:  (340095, 62)\n"
     ]
    },
    {
     "name": "stderr",
     "output_type": "stream",
     "text": [
      "C:\\Users\\Hyuk\\AppData\\Local\\Temp\\ipykernel_15228\\2338684975.py:5: DtypeWarning: Columns (60) have mixed types. Specify dtype option on import or set low_memory=False.\n",
      "  df = pd.read_csv(os.path.join(asos_folder_path, file), encoding='cp949')\n"
     ]
    },
    {
     "name": "stdout",
     "output_type": "stream",
     "text": [
      "2001_2412OBS_ASOS_DD.csv:  (174887, 62)\n",
      "(514982, 62)\n",
      "\n",
      "데이터를 data\\종관기상관측(ASOS)기상데이터\\ASOS_통합.csv에 저장하는 중...\n"
     ]
    }
   ],
   "source": [
    "asos_files = os.listdir(asos_folder_path)\n",
    "dfs = []\n",
    "sum = 0\n",
    "for file in asos_files:\n",
    "    df = pd.read_csv(os.path.join(asos_folder_path, file), encoding='cp949')\n",
    "    dfs.append(df)\n",
    "    sum += df.shape[0]\n",
    "    print(f\"{file}: \", df.shape)\n",
    "\n",
    "df = pd.concat(dfs)\n",
    "print(df.shape)\n",
    "output_file = os.path.join(asos_folder_path, 'ASOS_통합.csv')\n",
    "print(f\"\\n데이터를 {output_file}에 저장하는 중...\")\n",
    "df.to_csv(output_file, index=False, encoding='cp949')\n"
   ]
  },
  {
   "cell_type": "markdown",
   "metadata": {},
   "source": [
    "## 2. 결측치"
   ]
  },
  {
   "cell_type": "code",
   "execution_count": 57,
   "metadata": {},
   "outputs": [
    {
     "name": "stderr",
     "output_type": "stream",
     "text": [
      "C:\\Users\\Hyuk\\AppData\\Local\\Temp\\ipykernel_15228\\2836499020.py:1: DtypeWarning: Columns (60) have mixed types. Specify dtype option on import or set low_memory=False.\n",
      "  df = pd.read_csv(os.path.join(asos_folder_path, 'ASOS_통합.csv'), encoding='cp949')\n"
     ]
    }
   ],
   "source": [
    "df = pd.read_csv(os.path.join(asos_folder_path, 'ASOS_통합.csv'), encoding='cp949')"
   ]
  },
  {
   "cell_type": "code",
   "execution_count": null,
   "metadata": {},
   "outputs": [],
   "source": []
  }
 ],
 "metadata": {
  "kernelspec": {
   "display_name": "STJ",
   "language": "python",
   "name": "python3"
  },
  "language_info": {
   "codemirror_mode": {
    "name": "ipython",
    "version": 3
   },
   "file_extension": ".py",
   "mimetype": "text/x-python",
   "name": "python",
   "nbconvert_exporter": "python",
   "pygments_lexer": "ipython3",
   "version": "3.12.9"
  }
 },
 "nbformat": 4,
 "nbformat_minor": 2
}
